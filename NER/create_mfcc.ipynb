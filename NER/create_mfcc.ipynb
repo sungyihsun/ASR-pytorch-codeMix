{
 "cells": [
  {
   "cell_type": "code",
   "execution_count": 196,
   "metadata": {
    "Collapsed": "false"
   },
   "outputs": [],
   "source": [
    "from os import walk\n",
    "from os.path import join\n",
    "\n",
    "# 指定要列出所有檔案的目錄\n",
    "mypath = \"data/NER-Trs-Vol2/Clean/Wav\"\n",
    "wav = []\n",
    "# 遞迴列出所有檔案的絕對路徑\n",
    "for root, dirs, files in walk(mypath):\n",
    "    for f in files:\n",
    "        if f[-4:] == '.wav':\n",
    "            fullpath = join(root, f)\n",
    "            wav.append(fullpath)"
   ]
  },
  {
   "cell_type": "code",
   "execution_count": null,
   "metadata": {
    "Collapsed": "false"
   },
   "outputs": [
    {
     "data": {
      "application/vnd.jupyter.widget-view+json": {
       "model_id": "ab987f82e578411a9bfa1496fb219b46",
       "version_major": 2,
       "version_minor": 0
      },
      "text/plain": [
       "HBox(children=(IntProgress(value=0, max=6304), HTML(value='')))"
      ]
     },
     "metadata": {},
     "output_type": "display_data"
    }
   ],
   "source": [
    "from python_speech_features import mfcc\n",
    "from python_speech_features import logfbank\n",
    "from tqdm import tqdm_notebook as tqdm\n",
    "import scipy.io.wavfile as wav_\n",
    "mfcc_path = 'data/NER-Trs-Vol2/mfcc1/'\n",
    "if not os.path.isdir(mfcc_path):\n",
    "    os.mkdir(mfcc_path)\n",
    "for i in tqdm(range(len(wav))):\n",
    "    (rate,sig) = wav_.read(wav[i])\n",
    "    mfcc_feat = mfcc(sig,rate,numcep=39,nfilt=39)\n",
    "    file_name = wav[i].split('/')[-1][:-4] + '.mfcc'\n",
    "    with open(mfcc_path + file_name, 'w') as f:\n",
    "        for item in mfcc_feat:\n",
    "            f.write('  ')\n",
    "            f.write(\"%s\\n\" % ' '.join(str(v) for v in item))"
   ]
  },
  {
   "cell_type": "code",
   "execution_count": 162,
   "metadata": {
    "Collapsed": "false"
   },
   "outputs": [],
   "source": [
    "from os import walk\n",
    "from os.path import join\n",
    "\n",
    "# 指定要列出所有檔案的目錄\n",
    "mypath = \"data/NER-Trs-Vol1/mfcc1/\"\n",
    "mfcc = []\n",
    "# 遞迴列出所有檔案的絕對路徑\n",
    "for root, dirs, files in walk(mypath):\n",
    "    for f in files:\n",
    "        if f[-4:] == 'mfcc':\n",
    "            fullpath = join(root, f)\n",
    "            mfcc.append(fullpath)"
   ]
  },
  {
   "cell_type": "code",
   "execution_count": 190,
   "metadata": {
    "Collapsed": "false"
   },
   "outputs": [],
   "source": [
    "from tqdm import tqdm_notebook as tqdm\n",
    "working_dir = os.getcwd()\n",
    "def write_split_txt(data,split_tpye):\n",
    "    fp = open(\"split/\"+split_tpye+\"_paths.txt\", \"w\")\n",
    "    fp.close()\n",
    "    fp = open(\"split/\"+split_tpye+\"_ys.txt\", \"w\")\n",
    "    fp.close()    \n",
    "    \n",
    "    err = []\n",
    "    for i in tqdm(range(len(data))):\n",
    "        try:\n",
    "            fp = open(\"split/\"+split_tpye+\"_paths.txt\", \"a\")\n",
    "            # 寫入 This is a testing! 到檔案\n",
    "            fp.write(working_dir + '/' + data[i])\n",
    "            fp.write('\\n')\n",
    "            # 關閉檔案\n",
    "            fp.close()\n",
    "\n",
    "            mfcc_path_split = data[i].split('/')[-1].split('_')\n",
    "            txt_path = 'data/NER-Trs-Vol1/Clean/Text/' + os.path.join(*mfcc_path_split[:2] + [data[i].split('/')[-1]])[:-4]+'txt'\n",
    "            fp = open(txt_path, \"r\")\n",
    "            lines = fp.readlines()\n",
    "            fp.close()\n",
    "\n",
    "            fp = open(\"split/\"+split_tpye+\"_ys.txt\", \"a\")\n",
    "            # 寫入 This is a testing! 到檔案\n",
    "            fp.write(lines[0])\n",
    "            # 關閉檔案\n",
    "            fp.close()\n",
    "        except:\n",
    "            err.append(data[i])\n",
    "    print('err:' + str(len(err)))\n",
    "    "
   ]
  },
  {
   "cell_type": "code",
   "execution_count": 191,
   "metadata": {
    "Collapsed": "false"
   },
   "outputs": [
    {
     "data": {
      "application/vnd.jupyter.widget-view+json": {
       "model_id": "139d75650cc34cd2a9b3245ec68686f1",
       "version_major": 2,
       "version_minor": 0
      },
      "text/plain": [
       "HBox(children=(IntProgress(value=0, max=3574), HTML(value='')))"
      ]
     },
     "metadata": {},
     "output_type": "display_data"
    },
    {
     "name": "stdout",
     "output_type": "stream",
     "text": [
      "\n",
      "err:0\n"
     ]
    },
    {
     "data": {
      "application/vnd.jupyter.widget-view+json": {
       "model_id": "ce60b66281324d928721ebd6c75bdd52",
       "version_major": 2,
       "version_minor": 0
      },
      "text/plain": [
       "HBox(children=(IntProgress(value=0, max=510), HTML(value='')))"
      ]
     },
     "metadata": {},
     "output_type": "display_data"
    },
    {
     "name": "stdout",
     "output_type": "stream",
     "text": [
      "\n",
      "err:0\n"
     ]
    },
    {
     "data": {
      "application/vnd.jupyter.widget-view+json": {
       "model_id": "2af6315563894b8e85da7842e48b841b",
       "version_major": 2,
       "version_minor": 0
      },
      "text/plain": [
       "HBox(children=(IntProgress(value=0, max=1022), HTML(value='')))"
      ]
     },
     "metadata": {},
     "output_type": "display_data"
    },
    {
     "name": "stdout",
     "output_type": "stream",
     "text": [
      "\n",
      "err:0\n"
     ]
    }
   ],
   "source": [
    "train_mfcc = mfcc[:int(len(mfcc)*0.7)]\n",
    "dev_mfcc = mfcc[int(len(mfcc)*0.7):int(len(wav)*0.8)]\n",
    "test_mfcc = mfcc[int(len(mfcc)*0.8):]\n",
    "\n",
    "write_split_txt(train_mfcc,'train')\n",
    "write_split_txt(dev_mfcc,'dev')\n",
    "write_split_txt(test_mfcc,'test')"
   ]
  }
 ],
 "metadata": {
  "kernelspec": {
   "display_name": "Python 3",
   "language": "python",
   "name": "python3"
  },
  "language_info": {
   "codemirror_mode": {
    "name": "ipython",
    "version": 3
   },
   "file_extension": ".py",
   "mimetype": "text/x-python",
   "name": "python",
   "nbconvert_exporter": "python",
   "pygments_lexer": "ipython3",
   "version": "3.6.9"
  }
 },
 "nbformat": 4,
 "nbformat_minor": 4
}
